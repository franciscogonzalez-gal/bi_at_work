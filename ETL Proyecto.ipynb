{
 "cells": [
  {
   "metadata": {},
   "cell_type": "markdown",
   "source": [
    "## Universidad Galileo\n",
    "## Maestria en Business intelligence & Analytics\n",
    "\n",
    "# ETL Proyecto de BI at Work\n"
   ],
   "id": "8a77807f92f26ee"
  },
  {
   "metadata": {
    "ExecuteTime": {
     "end_time": "2024-10-31T13:31:00.242253Z",
     "start_time": "2024-10-31T13:30:55.362203Z"
    }
   },
   "cell_type": "code",
   "source": [
    "import pandas as pd\n",
    "\n",
    "from proyecto_library import read_file, create_star_schema, initialize_db, dispose_engine,load_data_to_table"
   ],
   "id": "7df9140457caed5e",
   "outputs": [],
   "execution_count": 1
  },
  {
   "metadata": {},
   "cell_type": "markdown",
   "source": "## Extracción de datos",
   "id": "2e44cfe2f556cba1"
  },
  {
   "metadata": {
    "collapsed": true,
    "ExecuteTime": {
     "end_time": "2024-10-27T13:45:15.224219Z",
     "start_time": "2024-10-27T13:45:14.600574Z"
    }
   },
   "cell_type": "code",
   "source": [
    "file_path = \"netflix_titles.csv\"\n",
    "data = read_file(file_path)"
   ],
   "id": "initial_id",
   "outputs": [],
   "execution_count": 2
  },
  {
   "metadata": {},
   "cell_type": "markdown",
   "source": "## Transformación de datos",
   "id": "62a8c026dc794d85"
  },
  {
   "metadata": {
    "ExecuteTime": {
     "end_time": "2024-10-27T13:45:16.057925Z",
     "start_time": "2024-10-27T13:45:15.348743Z"
    }
   },
   "cell_type": "code",
   "source": [
    "# Aplicar la función al dataset\n",
    "star_schema_dict = create_star_schema(data)"
   ],
   "id": "9f73bd97c6d262e7",
   "outputs": [],
   "execution_count": 3
  },
  {
   "metadata": {},
   "cell_type": "markdown",
   "source": "## Carga de datos",
   "id": "97d6a75967898beb"
  },
  {
   "metadata": {
    "ExecuteTime": {
     "end_time": "2024-10-31T13:38:54.338567Z",
     "start_time": "2024-10-31T13:38:53.884863Z"
    }
   },
   "cell_type": "code",
   "source": [
    "#leer como dataframe\n",
    "credenciales_df = pd.read_excel(\"credenciales_bd.xlsx\")\n",
    "#transofrmar a diccionario\n",
    "credenciales = dict(zip(credenciales_df['tipo'], credenciales_df['descripcion']))\n",
    "\n"
   ],
   "id": "10c6ca8281559323",
   "outputs": [],
   "execution_count": 8
  },
  {
   "metadata": {
    "ExecuteTime": {
     "end_time": "2024-10-27T13:46:40.078374Z",
     "start_time": "2024-10-27T13:45:16.070267Z"
    }
   },
   "cell_type": "code",
   "outputs": [
    {
     "name": "stdout",
     "output_type": "stream",
     "text": [
      "Datos cargados exitosamente en la tabla fact_table.\n",
      "Datos cargados exitosamente en la tabla title_dim.\n",
      "Datos cargados exitosamente en la tabla people_dim.\n",
      "Datos cargados exitosamente en la tabla country_dim.\n",
      "Datos cargados exitosamente en la tabla date_dim.\n",
      "Datos cargados exitosamente en la tabla type_dim.\n",
      "Motor cerrado correctamente.\n"
     ]
    }
   ],
   "execution_count": 4,
   "source": [
    "# Inicializa la base de datos y crea una sesión\n",
    "engine = initialize_db(credenciales['user'], credenciales['clave'],credenciales['host'],credenciales['puerto'], credenciales['db_name'])\n",
    "try:\n",
    "    # Realizar operaciones con la base de datos aquí\n",
    "    tablas_estrella = star_schema_dict.keys()\n",
    "    for tabla in tablas_estrella:\n",
    "        load_data_to_table(engine, tabla, star_schema_dict[tabla])\n",
    "finally:\n",
    "    # Cerrar la sesión y el motor al final\n",
    "    dispose_engine(engine)"
   ],
   "id": "36498d60bc979d19"
  }
 ],
 "metadata": {
  "kernelspec": {
   "display_name": "Python 3",
   "language": "python",
   "name": "python3"
  },
  "language_info": {
   "codemirror_mode": {
    "name": "ipython",
    "version": 2
   },
   "file_extension": ".py",
   "mimetype": "text/x-python",
   "name": "python",
   "nbconvert_exporter": "python",
   "pygments_lexer": "ipython2",
   "version": "2.7.6"
  }
 },
 "nbformat": 4,
 "nbformat_minor": 5
}
