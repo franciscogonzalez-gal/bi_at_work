{
 "cells": [
  {
   "cell_type": "code",
   "id": "initial_id",
   "metadata": {
    "collapsed": true,
    "ExecuteTime": {
     "end_time": "2024-10-27T13:48:12.016947Z",
     "start_time": "2024-10-27T13:48:07.914295Z"
    }
   },
   "source": [
    "#importar librerias\n",
    "from proyecto_library import read_file\n",
    "from ydata_profiling import ProfileReport\n"
   ],
   "outputs": [],
   "execution_count": 1
  },
  {
   "metadata": {
    "ExecuteTime": {
     "end_time": "2024-10-27T13:48:12.538859Z",
     "start_time": "2024-10-27T13:48:12.020958Z"
    }
   },
   "cell_type": "code",
   "source": [
    "#Leer el archivo\n",
    "peliculas_netflix = read_file('netflix_titles.csv')"
   ],
   "id": "cf8e18fab78dae78",
   "outputs": [],
   "execution_count": 2
  },
  {
   "metadata": {
    "ExecuteTime": {
     "end_time": "2024-10-27T13:48:12.674562Z",
     "start_time": "2024-10-27T13:48:12.660767Z"
    }
   },
   "cell_type": "code",
   "source": [
    "#Generar el reporte\n",
    "profile_peliculas = ProfileReport(peliculas_netflix, title='Peliculas Netflix', explorative=True)"
   ],
   "id": "c895b02c31e37839",
   "outputs": [],
   "execution_count": 3
  },
  {
   "metadata": {
    "ExecuteTime": {
     "end_time": "2024-10-27T13:48:19.505865Z",
     "start_time": "2024-10-27T13:48:12.684109Z"
    }
   },
   "cell_type": "code",
   "source": [
    "#Guardar el reporte\n",
    "profile_peliculas.to_file('EDA_peliculas_netflix.html')"
   ],
   "id": "237019bf802845a0",
   "outputs": [
    {
     "data": {
      "text/plain": [
       "Summarize dataset:   0%|          | 0/5 [00:00<?, ?it/s]"
      ],
      "application/vnd.jupyter.widget-view+json": {
       "version_major": 2,
       "version_minor": 0,
       "model_id": "eadee22018594671a09d139c378040e8"
      }
     },
     "metadata": {},
     "output_type": "display_data"
    },
    {
     "data": {
      "text/plain": [
       "Generate report structure:   0%|          | 0/1 [00:00<?, ?it/s]"
      ],
      "application/vnd.jupyter.widget-view+json": {
       "version_major": 2,
       "version_minor": 0,
       "model_id": "1349f949115b4c4782639ba4d2db588b"
      }
     },
     "metadata": {},
     "output_type": "display_data"
    },
    {
     "data": {
      "text/plain": [
       "Render HTML:   0%|          | 0/1 [00:00<?, ?it/s]"
      ],
      "application/vnd.jupyter.widget-view+json": {
       "version_major": 2,
       "version_minor": 0,
       "model_id": "4713611386e6448abbb829f148452c21"
      }
     },
     "metadata": {},
     "output_type": "display_data"
    },
    {
     "data": {
      "text/plain": [
       "Export report to file:   0%|          | 0/1 [00:00<?, ?it/s]"
      ],
      "application/vnd.jupyter.widget-view+json": {
       "version_major": 2,
       "version_minor": 0,
       "model_id": "437eb41d507a4af0b56bd80aaf826647"
      }
     },
     "metadata": {},
     "output_type": "display_data"
    }
   ],
   "execution_count": 4
  }
 ],
 "metadata": {
  "kernelspec": {
   "display_name": "Python 3",
   "language": "python",
   "name": "python3"
  },
  "language_info": {
   "codemirror_mode": {
    "name": "ipython",
    "version": 2
   },
   "file_extension": ".py",
   "mimetype": "text/x-python",
   "name": "python",
   "nbconvert_exporter": "python",
   "pygments_lexer": "ipython2",
   "version": "2.7.6"
  }
 },
 "nbformat": 4,
 "nbformat_minor": 5
}
